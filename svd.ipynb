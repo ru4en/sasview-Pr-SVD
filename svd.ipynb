{
 "cells": [
  {
   "cell_type": "markdown",
   "id": "4c0b802a",
   "metadata": {},
   "source": [
    "# SVD for SasView"
   ]
  },
  {
   "cell_type": "markdown",
   "id": "ef8e8e2d",
   "metadata": {},
   "source": [
    "### Import the Required libraries"
   ]
  },
  {
   "cell_type": "code",
   "execution_count": 185,
   "id": "62b083e6",
   "metadata": {},
   "outputs": [],
   "source": [
    "from sasdata.dataloader.loader import Loader\n",
    "from sas.sascalc.pr.invertor import Invertor\n",
    "import matplotlib.pyplot as plt\n",
    "import numpy as np"
   ]
  },
  {
   "cell_type": "markdown",
   "id": "708b89a7",
   "metadata": {},
   "source": [
    "### Load the data and set the necessary variables"
   ]
  },
  {
   "cell_type": "code",
   "execution_count": 186,
   "id": "c1377073",
   "metadata": {},
   "outputs": [],
   "source": [
    "raw_data = Loader()\n",
    "test_data = raw_data.load(\"1d_data/1umSlitSmearSphere.ABS\")\n",
    "q = test_data[0].x\n",
    "Iq = test_data[0].y\n",
    "error = test_data[0].dy\n",
    "\n",
    "# q = np.sqrt(x_data**2 + y_data**2)\n",
    "# Iq = data\n",
    "\n",
    "Nq=len(q) # total number of combined q and theta values\n",
    "qmax=round(max(q),2)\n",
    "qmin=13"
   ]
  },
  {
   "cell_type": "code",
   "execution_count": 187,
   "id": "fb247537",
   "metadata": {},
   "outputs": [
    {
     "data": {
      "image/png": "[encoded data removed]",
      "text/plain": [
       "<Figure size 432x288 with 1 Axes>"
      ]
     },
     "metadata": {
      "needs_background": "light"
     },
     "output_type": "display_data"
    }
   ],
   "source": [
    "plt.loglog(q, Iq,'-')\n",
    "plt.show()"
   ]
  },
  {
   "cell_type": "code",
   "execution_count": 197,
   "id": "89f3043b",
   "metadata": {},
   "outputs": [],
   "source": [
    "Nr=51 # number of r values in P(r) distributions\n",
    "Dmax=20000 # maximal size of scatteres as usually defined for IFTs\n",
    "N=Nr*Nphi # total number of combined r and phi values "
   ]
  },
  {
   "cell_type": "code",
   "execution_count": 223,
   "id": "12c9c9bc",
   "metadata": {},
   "outputs": [],
   "source": [
    "r1=np.linspace(0,Dmax,Nr)\n",
    "r1[0]=+1.e-3 # r can't start at 0\n",
    "\n",
    "Deltaphi=360.0/float(Nphi)\n",
    "phi11=np.linspace(0.,360.0-Deltaphi,Nphi)\n",
    "phi1=phi11/180.0*np.pi\n",
    "       \n",
    "r=[]\n",
    "phi=[]\n",
    "phiGrad=[]\n",
    "\n",
    "for i in range(Nphi):\n",
    "    for j in range(Nr):\n",
    "        r.append(r1[j])\n"
   ]
  },
  {
   "cell_type": "markdown",
   "id": "f00c04e7",
   "metadata": {},
   "source": [
    "### Construction of matrix K for the the input for SVD"
   ]
  },
  {
   "cell_type": "code",
   "execution_count": 224,
   "id": "71f0454e",
   "metadata": {},
   "outputs": [
    {
     "name": "stdout",
     "output_type": "stream",
     "text": [
      "qmat.shape = (150, 3672)\n",
      "rmat.shape = (150, 3672)\n"
     ]
    }
   ],
   "source": [
    "qmat=np.tile(q,(N,1)).T\n",
    "rmat=np.tile(r,(Nq,1))\n",
    "\n",
    "K = np.cos(qmat*rmat)\n",
    "print(\"qmat.shape = {}\\nrmat.shape = {}\".format(qmat.shape, rmat.shape))"
   ]
  },
  {
   "cell_type": "markdown",
   "id": "8b040f7d",
   "metadata": {},
   "source": [
    "### Runing the SVD algorithm"
   ]
  },
  {
   "cell_type": "code",
   "execution_count": 225,
   "id": "01323002",
   "metadata": {},
   "outputs": [],
   "source": [
    "U, s, V = np.linalg.svd( K, full_matrices=False)\n",
    "rank=2 # number of singular values considered for reconstruction"
   ]
  },
  {
   "cell_type": "code",
   "execution_count": 226,
   "id": "a2bee29b",
   "metadata": {},
   "outputs": [],
   "source": [
    "# A.2) reconstruction of correlation function P(r)\n",
    "\n",
    "b=(U.T).dot(Iq)\n",
    "g=[]\n",
    "for i in range(len(b)):\n",
    "    if s[i]>rank:\n",
    "        g.append(b[i]/s[i])\n",
    "    else:\n",
    "        g.append(0)\n",
    "\n",
    "g=np.asarray(g)\n",
    "Vm=(V.T).dot(g)\n",
    "Pr=np.asarray(Vm)  \n",
    "PrList=np.reshape(Pr,(Nphi,Nr))\n",
    "Iqfit=K.dot(Pr)\n",
    "\n",
    "PrList=np.reshape(Pr,(Nphi,Nr))"
   ]
  },
  {
   "cell_type": "markdown",
   "id": "093f0bce",
   "metadata": {},
   "source": [
    "### Ploting"
   ]
  },
  {
   "cell_type": "code",
   "execution_count": null,
   "id": "99c3671f",
   "metadata": {},
   "outputs": [
    {
     "data": {
      "image/png": "[encoded data removed]",
      "text/plain": [
       "<Figure size 432x288 with 1 Axes>"
      ]
     },
     "metadata": {
      "needs_background": "light"
     },
     "output_type": "display_data"
    }
   ],
   "source": [
    "plt.loglog(q,Iq,'*')\n",
    "plt.loglog(q,Iqfit,'-')\n",
    "plt.show()\n",
    "print('Figure A.1: 1D plot of data and fit (TSVD)')\n",
    "\n",
    "for i in range(Nphi):    \n",
    "    plt.plot(r1,PrList[i,:])\n",
    "plt.axhline(y=0.0, color='r', linestyle='-')    \n",
    "plt.show()  \n",
    "\n",
    "PrMax=abs(np.max(Pr))\n",
    "r=np.asarray(r)\n",
    "sP=r*0.5"
   ]
  },
  {
   "cell_type": "code",
   "execution_count": null,
   "id": "72e2eaa4",
   "metadata": {},
   "outputs": [],
   "source": []
  },
  {
   "cell_type": "code",
   "execution_count": null,
   "id": "c1f18ded",
   "metadata": {},
   "outputs": [],
   "source": []
  }
 ],
 "metadata": {
  "kernelspec": {
   "display_name": "Python 3 (ipykernel)",
   "language": "python",
   "name": "python3"
  },
  "language_info": {
   "codemirror_mode": {
    "name": "ipython",
    "version": 3
   },
   "file_extension": ".py",
   "mimetype": "text/x-python",
   "name": "python",
   "nbconvert_exporter": "python",
   "pygments_lexer": "ipython3",
   "version": "3.9.2"
  }
 },
 "nbformat": 4,
 "nbformat_minor": 5
}
